{
 "cells": [
  {
   "cell_type": "code",
   "execution_count": 1,
   "id": "974985be-5214-4a2d-9480-75198787b110",
   "metadata": {},
   "outputs": [],
   "source": [
    "# body mass index(BMI)\n",
    "# input weight\n",
    "# height\n",
    "# BMI( Ask your self your height)\n",
    "# Weight\n",
    "# Calculate BMI.\n",
    "# print BMI. (My Name is ______ and my BMI is ______)."
   ]
  },
  {
   "cell_type": "code",
   "execution_count": 2,
   "id": "9c905efd-ae38-42c3-a6a8-9ff2519fdd12",
   "metadata": {},
   "outputs": [],
   "source": [
    "# weight in Kg/ height in metre and its square."
   ]
  },
  {
   "cell_type": "code",
   "execution_count": 3,
   "id": "433c2c55-0cb5-431b-9ed1-7bf25912c1e9",
   "metadata": {},
   "outputs": [
    {
     "name": "stdin",
     "output_type": "stream",
     "text": [
      "What is your height? 1.74\n"
     ]
    }
   ],
   "source": [
    "height= input(\"What is your height?\")"
   ]
  },
  {
   "cell_type": "code",
   "execution_count": 4,
   "id": "8d48d14d-752c-4e26-b478-85a7e75d2b67",
   "metadata": {},
   "outputs": [],
   "source": [
    "height=float(height)"
   ]
  },
  {
   "cell_type": "code",
   "execution_count": 5,
   "id": "54500727-59ed-44a2-ba91-5258e4de7e6f",
   "metadata": {},
   "outputs": [
    {
     "name": "stdin",
     "output_type": "stream",
     "text": [
      "what is your weight 68\n"
     ]
    }
   ],
   "source": [
    "weight=input(\"what is your weight\")"
   ]
  },
  {
   "cell_type": "code",
   "execution_count": 6,
   "id": "4d84088c-eb90-443e-ac80-56ff0189cc28",
   "metadata": {},
   "outputs": [],
   "source": [
    "weight= float(weight)"
   ]
  },
  {
   "cell_type": "code",
   "execution_count": 7,
   "id": "157eb904-82f8-45b2-a91a-7ebcdeb4d088",
   "metadata": {},
   "outputs": [
    {
     "name": "stdin",
     "output_type": "stream",
     "text": [
      "what is your name Abbas\n"
     ]
    }
   ],
   "source": [
    "name=input(\"what is your name\")"
   ]
  },
  {
   "cell_type": "code",
   "execution_count": 8,
   "id": "1c81f543-fb24-4ac3-8ed2-6c5716e2445a",
   "metadata": {},
   "outputs": [
    {
     "data": {
      "text/plain": [
       "22.460034350640772"
      ]
     },
     "execution_count": 8,
     "metadata": {},
     "output_type": "execute_result"
    }
   ],
   "source": [
    "BMI= weight/height**2\n",
    "BMI"
   ]
  },
  {
   "cell_type": "code",
   "execution_count": 9,
   "id": "bc274534-b65a-434c-806f-768af32b93de",
   "metadata": {},
   "outputs": [
    {
     "name": "stdout",
     "output_type": "stream",
     "text": [
      "My name is Abbas and my BMI is 22.460034350640772\n"
     ]
    }
   ],
   "source": [
    "print(\"My name is\",name,\"and my BMI is\",BMI)"
   ]
  }
 ],
 "metadata": {
  "kernelspec": {
   "display_name": "Python 3 (ipykernel)",
   "language": "python",
   "name": "python3"
  },
  "language_info": {
   "codemirror_mode": {
    "name": "ipython",
    "version": 3
   },
   "file_extension": ".py",
   "mimetype": "text/x-python",
   "name": "python",
   "nbconvert_exporter": "python",
   "pygments_lexer": "ipython3",
   "version": "3.11.7"
  }
 },
 "nbformat": 4,
 "nbformat_minor": 5
}
