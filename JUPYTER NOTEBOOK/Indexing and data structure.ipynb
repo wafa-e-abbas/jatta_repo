{
 "cells": [
  {
   "cell_type": "markdown",
   "id": "eb340928-ec63-4752-8521-6dda85376fd8",
   "metadata": {},
   "source": [
    "# -Indexing"
   ]
  },
  {
   "cell_type": "code",
   "execution_count": 251,
   "id": "7d024583-c463-4f09-bc02-2102a780162e",
   "metadata": {},
   "outputs": [
    {
     "data": {
      "text/plain": [
       "'Samosa Pakora'"
      ]
     },
     "execution_count": 251,
     "metadata": {},
     "output_type": "execute_result"
    }
   ],
   "source": [
    "# make a string\n",
    "a=\"Samosa Pakora\"\n",
    "a"
   ]
  },
  {
   "cell_type": "code",
   "execution_count": 252,
   "id": "1721fb9e-043a-496f-949c-7b96724a3758",
   "metadata": {},
   "outputs": [
    {
     "data": {
      "text/plain": [
       "'Samosa Pakora'"
      ]
     },
     "execution_count": 252,
     "metadata": {},
     "output_type": "execute_result"
    }
   ],
   "source": [
    "a"
   ]
  },
  {
   "cell_type": "code",
   "execution_count": 253,
   "id": "49600494-79c9-4607-b215-0ed65d1c4fda",
   "metadata": {},
   "outputs": [
    {
     "data": {
      "text/plain": [
       "13"
      ]
     },
     "execution_count": 253,
     "metadata": {},
     "output_type": "execute_result"
    }
   ],
   "source": [
    "# Leength of indeces\n",
    "len(a)"
   ]
  },
  {
   "cell_type": "code",
   "execution_count": 254,
   "id": "3b09b755-f940-418f-abbd-480c79c8f760",
   "metadata": {},
   "outputs": [
    {
     "data": {
      "text/plain": [
       "'S'"
      ]
     },
     "execution_count": 254,
     "metadata": {},
     "output_type": "execute_result"
    }
   ],
   "source": [
    "a[0]\n"
   ]
  },
  {
   "cell_type": "code",
   "execution_count": 255,
   "id": "e040edce-2b04-46b4-85cd-4557d7bdd5f5",
   "metadata": {},
   "outputs": [
    {
     "data": {
      "text/plain": [
       "'a'"
      ]
     },
     "execution_count": 255,
     "metadata": {},
     "output_type": "execute_result"
    }
   ],
   "source": [
    "a[1]\n"
   ]
  },
  {
   "cell_type": "code",
   "execution_count": 256,
   "id": "6418c3ad-5795-4b13-8c14-771788c66f2a",
   "metadata": {},
   "outputs": [
    {
     "data": {
      "text/plain": [
       "'m'"
      ]
     },
     "execution_count": 256,
     "metadata": {},
     "output_type": "execute_result"
    }
   ],
   "source": [
    "a[2]"
   ]
  },
  {
   "cell_type": "code",
   "execution_count": 257,
   "id": "e0411276-3fd7-4dbd-b1eb-e00d02d26f11",
   "metadata": {},
   "outputs": [
    {
     "data": {
      "text/plain": [
       "'a'"
      ]
     },
     "execution_count": 257,
     "metadata": {},
     "output_type": "execute_result"
    }
   ],
   "source": [
    "a[12]\n"
   ]
  },
  {
   "cell_type": "code",
   "execution_count": 258,
   "id": "94c54fa4-ef10-43d1-9b73-6afc5d0dc60b",
   "metadata": {},
   "outputs": [
    {
     "data": {
      "text/plain": [
       "'Samosa'"
      ]
     },
     "execution_count": 258,
     "metadata": {},
     "output_type": "execute_result"
    }
   ],
   "source": [
    "#last inndex in excluse     #exclusive matlab eik barhana\n",
    "a[0:6]                      # : means to in our langubage  "
   ]
  },
  {
   "cell_type": "code",
   "execution_count": 259,
   "id": "17902fb8-e145-44c8-a139-5abbf61594c8",
   "metadata": {},
   "outputs": [
    {
     "data": {
      "text/plain": [
       "'Pakora'"
      ]
     },
     "execution_count": 259,
     "metadata": {},
     "output_type": "execute_result"
    }
   ],
   "source": [
    "a[-6:13]"
   ]
  },
  {
   "cell_type": "code",
   "execution_count": 260,
   "id": "1b8a9ad9-3899-4272-83ef-b7bfac08b6d8",
   "metadata": {},
   "outputs": [
    {
     "data": {
      "text/plain": [
       "'biryani'"
      ]
     },
     "execution_count": 260,
     "metadata": {},
     "output_type": "execute_result"
    }
   ],
   "source": [
    "food=\"biryani\"\n",
    "food"
   ]
  },
  {
   "cell_type": "markdown",
   "id": "0f6096c5-97c5-47dd-b55d-85a8acafd340",
   "metadata": {},
   "source": [
    "# String Methods"
   ]
  },
  {
   "cell_type": "code",
   "execution_count": 261,
   "id": "8fca0ab9-3b7c-4cb8-a796-b5de3381e1bd",
   "metadata": {},
   "outputs": [
    {
     "data": {
      "text/plain": [
       "'Biryani'"
      ]
     },
     "execution_count": 261,
     "metadata": {},
     "output_type": "execute_result"
    }
   ],
   "source": [
    "food=\"Biryani\"\n",
    "food"
   ]
  },
  {
   "cell_type": "code",
   "execution_count": 262,
   "id": "0bf81b05-f8ce-4311-805d-b4ef836f7bfd",
   "metadata": {},
   "outputs": [
    {
     "data": {
      "text/plain": [
       "7"
      ]
     },
     "execution_count": 262,
     "metadata": {},
     "output_type": "execute_result"
    }
   ],
   "source": [
    "    len(food)"
   ]
  },
  {
   "cell_type": "code",
   "execution_count": 263,
   "id": "41d8465e-4ff5-40ab-b0f0-f9f062cdcee7",
   "metadata": {},
   "outputs": [
    {
     "data": {
      "text/plain": [
       "'Biryani'"
      ]
     },
     "execution_count": 263,
     "metadata": {},
     "output_type": "execute_result"
    }
   ],
   "source": [
    "#capitalize every element\n",
    "food.capitalize()"
   ]
  },
  {
   "cell_type": "code",
   "execution_count": 264,
   "id": "dfa47f53-2d58-451d-8fd3-59a91633fc16",
   "metadata": {},
   "outputs": [
    {
     "data": {
      "text/plain": [
       "'BIRYANI'"
      ]
     },
     "execution_count": 264,
     "metadata": {},
     "output_type": "execute_result"
    }
   ],
   "source": [
    "# uppercase letters\n",
    "food.upper()"
   ]
  },
  {
   "cell_type": "code",
   "execution_count": 265,
   "id": "3dce45a5-ee9e-4cc7-ac59-8a39f5bdcc50",
   "metadata": {},
   "outputs": [
    {
     "data": {
      "text/plain": [
       "'biryani'"
      ]
     },
     "execution_count": 265,
     "metadata": {},
     "output_type": "execute_result"
    }
   ],
   "source": [
    "#Lowercase letters.\n",
    "food.lower()"
   ]
  },
  {
   "cell_type": "code",
   "execution_count": 266,
   "id": "b15f8cc1-2885-458d-8805-fd9364cb648f",
   "metadata": {},
   "outputs": [
    {
     "data": {
      "text/plain": [
       "'Shiryani'"
      ]
     },
     "execution_count": 266,
     "metadata": {},
     "output_type": "execute_result"
    }
   ],
   "source": [
    "#replace\n",
    "food.replace(\"B\",\"Sh\")"
   ]
  },
  {
   "cell_type": "code",
   "execution_count": 267,
   "id": "b6a46905-2331-468c-868b-1b5d5b8cf7fc",
   "metadata": {},
   "outputs": [
    {
     "data": {
      "text/plain": [
       "'baba_wafa with Dr Wafa Abbas'"
      ]
     },
     "execution_count": 267,
     "metadata": {},
     "output_type": "execute_result"
    }
   ],
   "source": [
    "# counting a specific alphabet in a string\n",
    "name=\"baba_wafa with Dr Wafa Abbas\"\n",
    "name"
   ]
  },
  {
   "cell_type": "code",
   "execution_count": 268,
   "id": "d57734f2-ff5c-47da-b421-1a3b1d974b30",
   "metadata": {},
   "outputs": [
    {
     "data": {
      "text/plain": [
       "7"
      ]
     },
     "execution_count": 268,
     "metadata": {},
     "output_type": "execute_result"
    }
   ],
   "source": [
    "name.count(\"a\")"
   ]
  },
  {
   "cell_type": "markdown",
   "id": "28656e60-8d1e-4f2f-b4cc-720853d49ce8",
   "metadata": {},
   "source": [
    "### - Finding index number in String"
   ]
  },
  {
   "cell_type": "code",
   "execution_count": 269,
   "id": "d3924769-69fc-4c7a-8e8a-7a2543ab72ee",
   "metadata": {},
   "outputs": [
    {
     "data": {
      "text/plain": [
       "'baba_wafa with Dr Wafa Abbas'"
      ]
     },
     "execution_count": 269,
     "metadata": {},
     "output_type": "execute_result"
    }
   ],
   "source": [
    "name=\"baba_wafa with Dr Wafa Abbas\"\n",
    "name"
   ]
  },
  {
   "cell_type": "code",
   "execution_count": 270,
   "id": "73a88ddd-6f0d-4757-bf5c-f85fc70dcece",
   "metadata": {},
   "outputs": [
    {
     "data": {
      "text/plain": [
       "18"
      ]
     },
     "execution_count": 270,
     "metadata": {},
     "output_type": "execute_result"
    }
   ],
   "source": [
    "name.find(\"W\")"
   ]
  },
  {
   "cell_type": "markdown",
   "id": "ddaf56a6-6162-4149-821f-fbb95603482d",
   "metadata": {},
   "source": [
    "### - How to split a string"
   ]
  },
  {
   "cell_type": "code",
   "execution_count": 271,
   "id": "65e3fbfd-2076-4786-932d-b396fc2b86bb",
   "metadata": {},
   "outputs": [
    {
     "data": {
      "text/plain": [
       "'I love samosa,pakora,raita,biryani and karhai'"
      ]
     },
     "execution_count": 271,
     "metadata": {},
     "output_type": "execute_result"
    }
   ],
   "source": [
    "food = \"I love samosa,pakora,raita,biryani and karhai\"\n",
    "food"
   ]
  },
  {
   "cell_type": "code",
   "execution_count": 272,
   "id": "fced94eb-21a7-45f2-8773-19b838049418",
   "metadata": {},
   "outputs": [
    {
     "data": {
      "text/plain": [
       "['I love samosa', 'pakora', 'raita', 'biryani and karhai']"
      ]
     },
     "execution_count": 272,
     "metadata": {},
     "output_type": "execute_result"
    }
   ],
   "source": [
    "food.split(\",\")"
   ]
  },
  {
   "cell_type": "code",
   "execution_count": null,
   "id": "3e2582ee-3b49-4888-b5dd-963089fb6e3d",
   "metadata": {},
   "outputs": [],
   "source": [
    "\n"
   ]
  },
  {
   "cell_type": "markdown",
   "id": "c2f81aa0-67f8-44c0-85a9-a61335857314",
   "metadata": {},
   "source": [
    "# Basic Data Structure In Pythan..\n",
    "1-Tuple \n",
    "\n",
    "2-List\n",
    "\n",
    "3-Dictionaries\n",
    "\n",
    "4-Set"
   ]
  },
  {
   "cell_type": "markdown",
   "id": "bb6f5552-3e65-4464-b83b-aed13ebbc7c6",
   "metadata": {},
   "source": [
    "## 1- Tuple\n",
    "- Order collection of elements\n",
    "- enclosed in () round braces/parenthesis.\n",
    "- Different kinds ofcelements can be stored.\n",
    "- Once elements are stored you can not change them(unmutatable).OR we can not use the replace function.                    "
   ]
  },
  {
   "cell_type": "code",
   "execution_count": 273,
   "id": "37d882e2-b686-4b22-9433-b5b2cc156e7c",
   "metadata": {},
   "outputs": [],
   "source": [
    " # to add any function press Tab after dot(.)."
   ]
  },
  {
   "cell_type": "code",
   "execution_count": 274,
   "id": "0a3e0ac2-c26f-4c17-a423-9f1d15595dbc",
   "metadata": {},
   "outputs": [
    {
     "data": {
      "text/plain": [
       "(1, 'Python', True, 2.5)"
      ]
     },
     "execution_count": 274,
     "metadata": {},
     "output_type": "execute_result"
    }
   ],
   "source": [
    "tup1 =(1,\"Python\",True,2.5)\n",
    "tup1"
   ]
  },
  {
   "cell_type": "code",
   "execution_count": 275,
   "id": "f27b10cf-4af6-41db-b327-8de99f0d0f80",
   "metadata": {},
   "outputs": [
    {
     "data": {
      "text/plain": [
       "tuple"
      ]
     },
     "execution_count": 275,
     "metadata": {},
     "output_type": "execute_result"
    }
   ],
   "source": [
    "#type of a tuple\n",
    "type(tup1)"
   ]
  },
  {
   "cell_type": "markdown",
   "id": "eb043fa6-fcb4-476a-8556-6467c6025b2c",
   "metadata": {},
   "source": [
    "### - Indexing in Tuple"
   ]
  },
  {
   "cell_type": "code",
   "execution_count": 276,
   "id": "35779747-fd14-48a3-832d-7cfa2ab4409f",
   "metadata": {},
   "outputs": [
    {
     "data": {
      "text/plain": [
       "'Python'"
      ]
     },
     "execution_count": 276,
     "metadata": {},
     "output_type": "execute_result"
    }
   ],
   "source": [
    "tup1[1]                   # index means we can say digit."
   ]
  },
  {
   "cell_type": "code",
   "execution_count": 277,
   "id": "1973d9ac-14f2-4a60-b62f-9532c579a9ee",
   "metadata": {},
   "outputs": [
    {
     "data": {
      "text/plain": [
       "2.5"
      ]
     },
     "execution_count": 277,
     "metadata": {},
     "output_type": "execute_result"
    }
   ],
   "source": [
    "tup1[3]"
   ]
  },
  {
   "cell_type": "code",
   "execution_count": 278,
   "id": "f33c04c5-ec65-4433-9e6d-094796043663",
   "metadata": {},
   "outputs": [
    {
     "data": {
      "text/plain": [
       "(1, 'Python', True)"
      ]
     },
     "execution_count": 278,
     "metadata": {},
     "output_type": "execute_result"
    }
   ],
   "source": [
    "#Last element is exclusive\n",
    "tup1[0:3]"
   ]
  },
  {
   "cell_type": "code",
   "execution_count": 279,
   "id": "3beb9f74-13cc-49a0-9b5e-4b9b6005474d",
   "metadata": {},
   "outputs": [
    {
     "data": {
      "text/plain": [
       "4"
      ]
     },
     "execution_count": 279,
     "metadata": {},
     "output_type": "execute_result"
    }
   ],
   "source": [
    "#count of element in tuple\n",
    "len(tup1)\n",
    "    "
   ]
  },
  {
   "cell_type": "code",
   "execution_count": 280,
   "id": "d49e896c-0f1b-4058-ad5d-f1c02274f663",
   "metadata": {},
   "outputs": [
    {
     "data": {
      "text/plain": [
       "(2, 'WafaBawa', 3.5, False)"
      ]
     },
     "execution_count": 280,
     "metadata": {},
     "output_type": "execute_result"
    }
   ],
   "source": [
    "tup2 = (2,\"WafaBawa\",3.5,False)\n",
    "tup2"
   ]
  },
  {
   "cell_type": "code",
   "execution_count": 281,
   "id": "d54949f5-4df9-4eed-9423-1e46cffeec49",
   "metadata": {},
   "outputs": [
    {
     "data": {
      "text/plain": [
       "(1, 'Python', True, 2.5, 2, 'WafaBawa', 3.5, False)"
      ]
     },
     "execution_count": 281,
     "metadata": {},
     "output_type": "execute_result"
    }
   ],
   "source": [
    "#concatinate   (to add two tuples or >2)\n",
    "tup1+tup2"
   ]
  },
  {
   "cell_type": "code",
   "execution_count": 282,
   "id": "b856f084-6b19-419f-a3bf-8ce74d08da92",
   "metadata": {},
   "outputs": [
    {
     "data": {
      "text/plain": [
       "(1, 'Python', True, 2.5, 1, 'Python', True, 2.5, 2, 'WafaBawa', 3.5, False)"
      ]
     },
     "execution_count": 282,
     "metadata": {},
     "output_type": "execute_result"
    }
   ],
   "source": [
    "#coccatinate + repeat   \n",
    "tup1*2+tup2"
   ]
  },
  {
   "cell_type": "code",
   "execution_count": 13,
   "id": "dbcd6f99-4020-49b3-96c5-cd928c9302f5",
   "metadata": {},
   "outputs": [
    {
     "data": {
      "text/plain": [
       "(20, 30, 40, 50, 60)"
      ]
     },
     "execution_count": 13,
     "metadata": {},
     "output_type": "execute_result"
    }
   ],
   "source": [
    "sal=(20,30,40,50,60)\n",
    "sal"
   ]
  },
  {
   "cell_type": "code",
   "execution_count": 14,
   "id": "b508f324-7788-4060-94cb-ab3ea78b42e1",
   "metadata": {},
   "outputs": [
    {
     "data": {
      "text/plain": [
       "tuple"
      ]
     },
     "execution_count": 14,
     "metadata": {},
     "output_type": "execute_result"
    }
   ],
   "source": [
    "type(sal)"
   ]
  },
  {
   "cell_type": "code",
   "execution_count": 5,
   "id": "40e686a1-2e3b-4c0f-a67a-f549f7e4e086",
   "metadata": {},
   "outputs": [
    {
     "data": {
      "text/plain": [
       "60"
      ]
     },
     "execution_count": 5,
     "metadata": {},
     "output_type": "execute_result"
    }
   ],
   "source": [
    "max (sal)"
   ]
  },
  {
   "cell_type": "code",
   "execution_count": 6,
   "id": "528c8748-c9b5-4837-a00c-59ad9961f8c1",
   "metadata": {},
   "outputs": [
    {
     "data": {
      "text/plain": [
       "20"
      ]
     },
     "execution_count": 6,
     "metadata": {},
     "output_type": "execute_result"
    }
   ],
   "source": [
    "min (sal)"
   ]
  },
  {
   "cell_type": "code",
   "execution_count": 7,
   "id": "42f883fb-29fc-4434-b72a-ae8fb8030333",
   "metadata": {},
   "outputs": [
    {
     "data": {
      "text/plain": [
       "(20, 30, 40, 50, 60, 20, 30, 40, 50, 60)"
      ]
     },
     "execution_count": 7,
     "metadata": {},
     "output_type": "execute_result"
    }
   ],
   "source": [
    "sal*2"
   ]
  },
  {
   "cell_type": "markdown",
   "id": "28e90a80-2074-42ba-ac0b-a747d675bd6c",
   "metadata": {},
   "source": [
    "---"
   ]
  },
  {
   "cell_type": "markdown",
   "id": "ff66d399-1257-467b-9bce-9c0d1014848d",
   "metadata": {},
   "source": [
    "## 2- List\n",
    "- order collection of elements\n",
    "- enclosed in [] square braces/brackets.\n",
    "- mutateable,you can change the values.                                     "
   ]
  },
  {
   "cell_type": "code",
   "execution_count": null,
   "id": "f41541b5-250a-410b-bff9-27bbbbe2bc73",
   "metadata": {},
   "outputs": [],
   "source": [
    "# to add any function press Tab after dot(.)."
   ]
  },
  {
   "cell_type": "code",
   "execution_count": null,
   "id": "b3d4b6ec-4fac-456c-834f-7cf8d7a12ec5",
   "metadata": {},
   "outputs": [],
   "source": [
    "list1=[2,\"WafaBawa\",False]\n",
    "list1"
   ]
  },
  {
   "cell_type": "code",
   "execution_count": null,
   "id": "431cc80c-4e96-414c-a3ba-fca836860a7a",
   "metadata": {},
   "outputs": [],
   "source": [
    "type(list1)"
   ]
  },
  {
   "cell_type": "code",
   "execution_count": null,
   "id": "ee9acc83-80a5-4125-9968-51fcb8312d82",
   "metadata": {},
   "outputs": [],
   "source": [
    "#counts of element present in a list\n",
    "len(list1)"
   ]
  },
  {
   "cell_type": "code",
   "execution_count": null,
   "id": "df4bd364-34b7-4aa4-816e-9ea003aa32db",
   "metadata": {},
   "outputs": [],
   "source": [
    "list1[1]      #indexing"
   ]
  },
  {
   "cell_type": "code",
   "execution_count": null,
   "id": "e0572d7c-af79-43e7-80f6-ce498093bcac",
   "metadata": {},
   "outputs": [],
   "source": [
    "list2=[\"Wafa\",\"Codanics\",987,45.8,True]\n",
    "list2"
   ]
  },
  {
   "cell_type": "code",
   "execution_count": null,
   "id": "6f8fd522-35a2-4c07-8e62-cc82d5317900",
   "metadata": {},
   "outputs": [],
   "source": [
    "list1+list2"
   ]
  },
  {
   "cell_type": "code",
   "execution_count": null,
   "id": "4dee4c72-e065-47fe-9da9-e30e9d3fac4b",
   "metadata": {},
   "outputs": [],
   "source": [
    "list1*3"
   ]
  },
  {
   "cell_type": "code",
   "execution_count": null,
   "id": "a5ec0443-e01d-48cc-8540-783cc2d5e240",
   "metadata": {},
   "outputs": [],
   "source": [
    "list2.reverse()   #revert the operation\n",
    "list2"
   ]
  },
  {
   "cell_type": "code",
   "execution_count": null,
   "id": "c7acbc45-edda-4917-8025-d2117978df9b",
   "metadata": {},
   "outputs": [],
   "source": [
    "list1.append(\"true,False\")  # append means add something from your self\n",
    "list1"
   ]
  },
  {
   "cell_type": "code",
   "execution_count": null,
   "id": "184636e9-57e3-4a47-a5b2-46da6e54f434",
   "metadata": {},
   "outputs": [],
   "source": [
    "list3=[45,65,234,45,535,3535,3423,424,25,35,353,53,5]\n",
    "list3"
   ]
  },
  {
   "cell_type": "code",
   "execution_count": null,
   "id": "22e7085a-de47-4e09-8bb4-d2390a39c68b",
   "metadata": {},
   "outputs": [],
   "source": [
    "list3.sort()               #sort means sequence wise\n",
    "list3"
   ]
  },
  {
   "cell_type": "code",
   "execution_count": null,
   "id": "5b581b6e-9a14-4f0b-9630-0b9a85389713",
   "metadata": {},
   "outputs": [],
   "source": [
    "lists=list1+list2\n",
    "lists"
   ]
  },
  {
   "cell_type": "markdown",
   "id": "30f4ef10-1c2e-4333-86d6-7abfc0c923ce",
   "metadata": {},
   "source": [
    "---"
   ]
  },
  {
   "cell_type": "markdown",
   "id": "57bb2a54-e9ba-46f0-8b22-0c4c2c4b446e",
   "metadata": {},
   "source": [
    "## Dictionaries\n",
    "- An unordered collection of elements\n",
    "- Key and Value\n",
    "- Curly braces or brackets{}.\n",
    "- Mutateable/Change the values                                           b"
   ]
  },
  {
   "cell_type": "code",
   "execution_count": null,
   "id": "e1c18a44-85bf-4158-9ea7-fb18a498cf91",
   "metadata": {},
   "outputs": [],
   "source": [
    "# to add any function press Tab after dot(.)."
   ]
  },
  {
   "cell_type": "code",
   "execution_count": null,
   "id": "4399082a-92bf-4716-ac95-d9d7a9162bef",
   "metadata": {},
   "outputs": [],
   "source": [
    "#Food and their prices\n",
    "food1 = {\"Samosa\":30,\"Pakora\":50,\"Raita\":20,\"Salid\":50,\"Chicken Roll\":30}\n",
    "food1"
   ]
  },
  {
   "cell_type": "code",
   "execution_count": null,
   "id": "565fcf32-bcdb-4c62-b4ed-069240523aba",
   "metadata": {},
   "outputs": [],
   "source": [
    "type(food1)"
   ]
  },
  {
   "cell_type": "code",
   "execution_count": null,
   "id": "b9944ae2-140e-470b-871e-3e7c1f39adfd",
   "metadata": {},
   "outputs": [],
   "source": [
    "#ectract data\n",
    "keys1 = food1.keys() \n",
    "keys1"
   ]
  },
  {
   "cell_type": "code",
   "execution_count": null,
   "id": "7e7053b6-9e3e-4989-9518-33d507779f02",
   "metadata": {},
   "outputs": [],
   "source": [
    "values1=food1.values()\n",
    "values1"
   ]
  },
  {
   "cell_type": "code",
   "execution_count": null,
   "id": "30b8c06d-50f6-47cb-90b7-ec342679fc8d",
   "metadata": {},
   "outputs": [],
   "source": [
    "#add new element\n",
    "food1[\"Tikki with Keema\"]=50\n",
    "food1"
   ]
  },
  {
   "cell_type": "code",
   "execution_count": null,
   "id": "887c9e08-1b5b-416e-890d-55450d0f36b6",
   "metadata": {},
   "outputs": [],
   "source": [
    "#update the values\n",
    "food1[\"Tikki with Keema\"]=55\n",
    "food1"
   ]
  },
  {
   "cell_type": "code",
   "execution_count": null,
   "id": "87bdcf4a-9e09-45c3-912b-91859a8174be",
   "metadata": {},
   "outputs": [],
   "source": [
    "food2={\"dates\":50 , \"Surf Excel\":200, \"Sweets\":1000}\n",
    "food2"
   ]
  },
  {
   "cell_type": "code",
   "execution_count": null,
   "id": "8890ad1d-5f8d-4621-8856-5c0dd093a9d3",
   "metadata": {},
   "outputs": [],
   "source": [
    "#update is used to concatinate two dictionaries or >2\n",
    "food1.update(food2)\n",
    "food1"
   ]
  },
  {
   "cell_type": "markdown",
   "id": "a8ad1514-18f3-4b2a-97a1-c6923c7c5acd",
   "metadata": {},
   "source": [
    "---\n"
   ]
  },
  {
   "cell_type": "markdown",
   "id": "6fd9063b-39a2-46bd-8731-9f5f183a6f2b",
   "metadata": {},
   "source": [
    "## 4- Set\n",
    "- Unordered and Unindexed\n",
    "- Curly braces or Braackets are used\n",
    "- No Duplicates allowed                                          "
   ]
  },
  {
   "cell_type": "code",
   "execution_count": null,
   "id": "417097c9-793a-4e04-aa90-51db5891ac22",
   "metadata": {},
   "outputs": [],
   "source": [
    "# to add any function press Tab after dot(.)."
   ]
  },
  {
   "cell_type": "code",
   "execution_count": null,
   "id": "181f1944-a5db-4960-99e0-36c570e69696",
   "metadata": {},
   "outputs": [],
   "source": [
    "s1={1.2,3,\"Wafa\",\"Bawa\",\"Pindi\",False,\"Ali\",\"Imran\"}                       #False will not be printed because string,float numbers and whole numbers are allowed in set.\n",
    "s1"
   ]
  },
  {
   "cell_type": "code",
   "execution_count": null,
   "id": "562d8541-c69c-4ae6-9126-9fdb0aefa371",
   "metadata": {},
   "outputs": [],
   "source": [
    "#add element in an set.\n",
    "s1.add(\"Abbas\")                       # if we want to print again abbas it will not be printed because duplicate are not allowed\n",
    "s1"
   ]
  },
  {
   "cell_type": "code",
   "execution_count": null,
   "id": "95c9c742-234e-4667-9381-27b14ba2695c",
   "metadata": {},
   "outputs": [],
   "source": [
    "# remove and discard function to delete an element from a set\n",
    "s1.remove(1.2)             # if we want to use another function present in a list so press Tab.\n",
    "s1"
   ]
  },
  {
   "cell_type": "code",
   "execution_count": null,
   "id": "4c97528e-db8d-4e0c-98b3-1c63214c899b",
   "metadata": {},
   "outputs": [],
   "source": []
  }
 ],
 "metadata": {
  "kernelspec": {
   "display_name": "Python 3 (ipykernel)",
   "language": "python",
   "name": "python3"
  },
  "language_info": {
   "codemirror_mode": {
    "name": "ipython",
    "version": 3
   },
   "file_extension": ".py",
   "mimetype": "text/x-python",
   "name": "python",
   "nbconvert_exporter": "python",
   "pygments_lexer": "ipython3",
   "version": "3.11.7"
  }
 },
 "nbformat": 4,
 "nbformat_minor": 5
}
